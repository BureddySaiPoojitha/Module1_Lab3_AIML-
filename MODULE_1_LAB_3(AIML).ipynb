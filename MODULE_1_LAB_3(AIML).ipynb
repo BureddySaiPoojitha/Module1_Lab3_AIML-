{
  "nbformat": 4,
  "nbformat_minor": 0,
  "metadata": {
    "colab": {
      "provenance": [],
      "authorship_tag": "ABX9TyPHHXLtBAxXUPpC/IdqNe3V",
      "include_colab_link": true
    },
    "kernelspec": {
      "name": "python3",
      "display_name": "Python 3"
    },
    "language_info": {
      "name": "python"
    }
  },
  "cells": [
    {
      "cell_type": "markdown",
      "metadata": {
        "id": "view-in-github",
        "colab_type": "text"
      },
      "source": [
        "<a href=\"https://colab.research.google.com/github/BureddySaiPoojitha/Module1_Lab3_AIML-/blob/main/MODULE_1_LAB_3(AIML).ipynb\" target=\"_parent\"><img src=\"https://colab.research.google.com/assets/colab-badge.svg\" alt=\"Open In Colab\"/></a>"
      ]
    },
    {
      "cell_type": "markdown",
      "source": [
        "# **Transforming data using linear algebra**"
      ],
      "metadata": {
        "id": "NT1R_duUUjdO"
      }
    },
    {
      "cell_type": "markdown",
      "source": [
        "# Module 1, Lab 3"
      ],
      "metadata": {
        "id": "gxvyJn9xUwYd"
      }
    },
    {
      "cell_type": "code",
      "source": [
        "import numpy as np\n",
        "import matplotlib.pyplot as plt\n",
        "from keras.datasets import mnist\n"
      ],
      "metadata": {
        "id": "ZjmAfndOU0BP"
      },
      "execution_count": 1,
      "outputs": []
    },
    {
      "cell_type": "code",
      "source": [
        "import numpy as np\n",
        "import matplotlib.pyplot as plt\n",
        "from keras.datasets import mnist\n",
        "\n",
        "def plotGrid(transform,unit,linestyle=\":\",fig=None,ax=None):\n",
        "    lim1=-100\n",
        "    lim2=100\n",
        "    def mat2xy(start,end):\n",
        "      if len(start.shape)==1:\n",
        "        start=np.expand_dims(start,0)\n",
        "        end=np.expand_dims(end,0)\n",
        "      # Replace npnan with np.nan\n",
        "      nan=np.ones(len(start))*np.nan\n",
        "      x=np.stack((start[:,1],end[:,1],nan)).T.reshape(-1)\n",
        "      y=np.stack((start[:,0],end[:,0],nan)).T.reshape(-1)\n",
        "      return x,y\n",
        "    def parallellines(axis,addend,lines,unit):\n",
        "      addend=np.repeat(np.expand_dims(addend,0),lines*2,0)\n",
        "      unit=np.expand_dims(np.arange(-lines,lines)*unit,1)\n",
        "      unit=unit-lines\n",
        "      adend=addend*unit\n",
        "      lines=np.expand_dims(axis,0)+addend\n",
        "      return np.concatenate((lines,lines*-1))\n",
        "    if fig is None:\n",
        "      fig,ax=plt.subplots(figsize=(10,10))\n",
        "    transform=transform.astype(float)\n",
        "    xaxis=transform[0]\n",
        "    yaxis=transform[1]\n",
        "\n",
        "    lines1=parallellines(xaxis*lim1,yaxis,100,unit)\n",
        "    lines2=parallellines(xaxis*lim2,yaxis,100,unit)\n",
        "    x,y=mat2xy(lines1,lines2)\n",
        "    # Access linestyle as a variable, not as an attribute of y\n",
        "    plt.plot(x,y,linestyle+\"k\",linewidth=0.5)\n",
        "\n",
        "    x,y=mat2xy(xaxis*lim1,xaxis*lim2)\n",
        "    # Access linestyle as a variable, not as an attribute of y\n",
        "    plt.plot(x,y,linestyle,color=\"#440077\")\n",
        "\n",
        "    lines1=parallellines(yaxis*lim1,xaxis,100,unit)\n",
        "    lines2=parallellines(yaxis*lim2,xaxis,100,unit)\n",
        "    x,y=mat2xy(lines1,lines2)\n",
        "    # Access linestyle as a variable, not as an attribute of y\n",
        "    plt.plot(x,y,linestyle+\"k\",linewidth=0.5)\n",
        "\n",
        "    x,y=mat2xy(yaxis*lim1,yaxis*lim2)\n",
        "    # Access linestyle as a variable, not as an attribute of y\n",
        "    plt.plot(x,y,linestyle,color=\"#aa5500\")\n",
        "    return fig,ax\n",
        "\n",
        "def plotData(x,y,xlabel=\"hole\",ylabel=\"bound\",fig=None,ax=None):\n",
        "  if fig is None:\n",
        "    fig,ax=plt.subplots()\n",
        "  for i in range(nclasses):\n",
        "    plt.scatter(x[y==i,0],x[y==i,1])\n",
        "  plt.legend([str(i) for ii in range(nclasses)])\n",
        "  plt.xlabel(xlabel)\n",
        "  plt.ylabel(ylabel)\n",
        "  lim2=x.max()\n",
        "  lim1=x.min()\n",
        "  return fig,ax"
      ],
      "metadata": {
        "id": "hExKHe3we1LQ"
      },
      "execution_count": null,
      "outputs": []
    },
    {
      "cell_type": "markdown",
      "source": [
        "# Matrix transformations on data"
      ],
      "metadata": {
        "id": "CLMry8TcZJi5"
      }
    },
    {
      "cell_type": "code",
      "source": [
        "T0=np.array([[1,0],[0,-5]])\n",
        "T1=np.array([[2,0],[-1,3]])\n",
        "data1=np.array([3,8])\n",
        "data0=np.matmul(T1,data1)\n",
        "print(\"Data in T0 = \",data0)\n",
        "print(\"Data in T1 = \",data1)"
      ],
      "metadata": {
        "colab": {
          "base_uri": "https://localhost:8080/"
        },
        "id": "2rs2asQXZJGB",
        "outputId": "eee11cf9-82e4-498d-d0f5-d93c3a989598"
      },
      "execution_count": null,
      "outputs": [
        {
          "output_type": "stream",
          "name": "stdout",
          "text": [
            "Data in T0 =  [ 6 21]\n",
            "Data in T1 =  [3 8]\n"
          ]
        }
      ]
    },
    {
      "cell_type": "code",
      "source": [
        "fig,ax=plotGrid(T1.T,1,\"-\")\n",
        "plotGrid(T0.T,1,fig=fig,ax=ax)\n",
        "plt.scatter(data0[0],data0[1])\n",
        "ax.set_xlim(-10,10)\n",
        "ax.set_ylim(-10,10)\n",
        "ax.set_xticks([])\n",
        "ax.set_yticks([])\n",
        "plt.show"
      ],
      "metadata": {
        "colab": {
          "base_uri": "https://localhost:8080/",
          "height": 827
        },
        "id": "ruEEIKJGae_U",
        "outputId": "304753e9-8ada-4603-b448-45168bbe415c"
      },
      "execution_count": null,
      "outputs": [
        {
          "output_type": "execute_result",
          "data": {
            "text/plain": [
              "<function matplotlib.pyplot.show(close=None, block=None)>"
            ],
            "text/html": [
              "<div style=\"max-width:800px; border: 1px solid var(--colab-border-color);\"><style>\n",
              "      pre.function-repr-contents {\n",
              "        overflow-x: auto;\n",
              "        padding: 8px 12px;\n",
              "        max-height: 500px;\n",
              "      }\n",
              "\n",
              "      pre.function-repr-contents.function-repr-contents-collapsed {\n",
              "        cursor: pointer;\n",
              "        max-height: 100px;\n",
              "      }\n",
              "    </style>\n",
              "    <pre style=\"white-space: initial; background:\n",
              "         var(--colab-secondary-surface-color); padding: 8px 12px;\n",
              "         border-bottom: 1px solid var(--colab-border-color);\"><b>matplotlib.pyplot.show</b><br/>def show(*args, **kwargs)</pre><pre class=\"function-repr-contents function-repr-contents-collapsed\" style=\"\"><a class=\"filepath\" style=\"display:none\" href=\"#\">/usr/local/lib/python3.10/dist-packages/matplotlib/pyplot.py</a>Display all open figures.\n",
              "\n",
              "Parameters\n",
              "----------\n",
              "block : bool, optional\n",
              "    Whether to wait for all figures to be closed before returning.\n",
              "\n",
              "    If `True` block and run the GUI main loop until all figure windows\n",
              "    are closed.\n",
              "\n",
              "    If `False` ensure that all figure windows are displayed and return\n",
              "    immediately.  In this case, you are responsible for ensuring\n",
              "    that the event loop is running to have responsive figures.\n",
              "\n",
              "    Defaults to True in non-interactive mode and to False in interactive\n",
              "    mode (see `.pyplot.isinteractive`).\n",
              "\n",
              "See Also\n",
              "--------\n",
              "ion : Enable interactive mode, which shows / updates the figure after\n",
              "      every plotting command, so that calling ``show()`` is not necessary.\n",
              "ioff : Disable interactive mode.\n",
              "savefig : Save the figure to an image file instead of showing it on screen.\n",
              "\n",
              "Notes\n",
              "-----\n",
              "**Saving figures to file and showing a window at the same time**\n",
              "\n",
              "If you want an image file as well as a user interface window, use\n",
              "`.pyplot.savefig` before `.pyplot.show`. At the end of (a blocking)\n",
              "``show()`` the figure is closed and thus unregistered from pyplot. Calling\n",
              "`.pyplot.savefig` afterwards would save a new and thus empty figure. This\n",
              "limitation of command order does not apply if the show is non-blocking or\n",
              "if you keep a reference to the figure and use `.Figure.savefig`.\n",
              "\n",
              "**Auto-show in jupyter notebooks**\n",
              "\n",
              "The jupyter backends (activated via ``%matplotlib inline``,\n",
              "``%matplotlib notebook``, or ``%matplotlib widget``), call ``show()`` at\n",
              "the end of every cell by default. Thus, you usually don&#x27;t have to call it\n",
              "explicitly there.</pre>\n",
              "      <script>\n",
              "      if (google.colab.kernel.accessAllowed && google.colab.files && google.colab.files.view) {\n",
              "        for (const element of document.querySelectorAll('.filepath')) {\n",
              "          element.style.display = 'block'\n",
              "          element.onclick = (event) => {\n",
              "            event.preventDefault();\n",
              "            event.stopPropagation();\n",
              "            google.colab.files.view(element.textContent, 401);\n",
              "          };\n",
              "        }\n",
              "      }\n",
              "      for (const element of document.querySelectorAll('.function-repr-contents')) {\n",
              "        element.onclick = (event) => {\n",
              "          event.preventDefault();\n",
              "          event.stopPropagation();\n",
              "          element.classList.toggle('function-repr-contents-collapsed');\n",
              "        };\n",
              "      }\n",
              "      </script>\n",
              "      </div>"
            ]
          },
          "metadata": {},
          "execution_count": 25
        },
        {
          "output_type": "display_data",
          "data": {
            "text/plain": [
              "<Figure size 1000x1000 with 1 Axes>"
            ],
            "image/png": "[encoded data removed]"
          },
          "metadata": {}
        }
      ]
    },
    {
      "cell_type": "code",
      "source": [
        "data0_a=np.matmul(T0,data0)\n",
        "data0_b=np.matmul(data0,T0.T)\n",
        "print(\"Data in T0 = \",data0_a)\n",
        "print(\"Data in T0 = \",data0_b)"
      ],
      "metadata": {
        "colab": {
          "base_uri": "https://localhost:8080/"
        },
        "id": "61HcrPpNfUCl",
        "outputId": "28678f9a-9bca-47bd-a84a-7633b946d005"
      },
      "execution_count": null,
      "outputs": [
        {
          "output_type": "stream",
          "name": "stdout",
          "text": [
            "Data in T0 =  [   6 -105]\n",
            "Data in T0 =  [   6 -105]\n"
          ]
        }
      ]
    },
    {
      "cell_type": "code",
      "source": [
        "A1=np.array([5,7])\n",
        "B1=np.array([3,-9])\n",
        "C1=np.array([2,-3])\n",
        "A0=np.matmul(T1,A1)\n",
        "B0=np.matmul(T1,B1)\n",
        "C0=np.matmul(T1,C1)\n",
        "def dist(a,b):\n",
        "  diff=a-b\n",
        "  sq=diff*diff\n",
        "  return np.sqrt(sq.sum())\n",
        "print(\"Distance between A and B in T1 = \",dist(A0,B0))\n",
        "print(\"Distance between B and C in T1 = \",dist(B0,C0))\n",
        "print(\"Distance between C and A in T1 = \",dist(C0,A0))\n",
        "print(\"\")\n",
        "print(\"Distance between A and B in T0 = \",dist(A1,B1))\n",
        "print(\"Distance between B and C in T0 = \",dist(B1,C1))\n",
        "print(\"Distance between C and A in T0 = \",dist(C1,A1))"
      ],
      "metadata": {
        "colab": {
          "base_uri": "https://localhost:8080/"
        },
        "id": "-ayDyW6Ofk6T",
        "outputId": "72c24227-b2a6-4b58-e0d9-9b2d38f21bfd"
      },
      "execution_count": null,
      "outputs": [
        {
          "output_type": "stream",
          "name": "stdout",
          "text": [
            "Distance between A and B in T1 =  46.17358552246078\n",
            "Distance between B and C in T1 =  19.1049731745428\n",
            "Distance between C and A in T1 =  27.65863337187866\n",
            "\n",
            "Distance between A and B in T0 =  16.1245154965971\n",
            "Distance between B and C in T0 =  6.082762530298219\n",
            "Distance between C and A in T0 =  10.44030650891055\n"
          ]
        }
      ]
    },
    {
      "cell_type": "markdown",
      "source": [
        "# Transformation on MNIST"
      ],
      "metadata": {
        "id": "Svn5dibCgvuV"
      }
    },
    {
      "cell_type": "code",
      "source": [
        "def NN1(traindata,trainlabel,query):\n",
        "  diff=(traindata-query)\n",
        "  sq=diff*diff\n",
        "  dist=sq.sum()\n",
        "  label=trainlabel[np.argmin(dist)]\n",
        "  return label\n",
        "def NN(traindata,trainlabel,testdata):\n",
        "  predlabel=np.array([NN1(traindata,trainlabel,i) for i in testdata])\n",
        "  return predlabel\n",
        "def Accuracy(gtlabel,predlabel):\n",
        "  assert len(gtlabel)==len(predlabel),\"Length of the ground-truth labels and predicted labels should be the same\"\n",
        "  correct=(gtlabel==predlabel).sum()\n",
        "  total=len(gtlabel)\n",
        "  return correct/total\n",
        "def cumArray(img):\n",
        "  img2=img.copy()\n",
        "  for i in range(1,img2.shape[0]):\n",
        "    img2[i,:]=img2[i,:]+img2[i-1,:]\n",
        "  img2=img2>0\n",
        "  return img2\n",
        "def getHolepixels(img):\n",
        "  im1=cumArray(img)\n",
        "  im2=np.rot90(cumArray(np.rot90(img)),3)\n",
        "  im3=np.rot90(cumArray(np.rot90(img,2)),2)\n",
        "  im4=np.rot90(cumArray(np.rot90(img,3)),1)\n",
        "  hull=im1&im2&im3&im4\n",
        "  hole=hull&~(img>0)\n",
        "  return hole\n",
        "def getHullPixels(img):\n",
        "  im1=cumArray(img)\n",
        "  im2=np.rot90(cumArray(np.rot90(img)),3)\n",
        "  img3=np.rot90(cumArray(np.rot90(img,2)),2)\n",
        "  im4=np.rot90(cumArray(np.rot90(img,3)),1)\n",
        "  hull=im1&im2&im3&im4\n",
        "  return hull\n",
        "\n",
        "def minus(a,b):\n",
        "  return a&~b\n",
        "def getBoundaryPixels(img):\n",
        "  img=img.copy()>0\n",
        "  rshift=np.roll(img,1,1)\n",
        "  lshift=np.roll(img,-1,1)\n",
        "  ushift=np.roll(img,1,1)\n",
        "  dshift=np.roll(img,-1,0)\n",
        "  boundary=minus(img,rshift)|minus(img,lshift)|minus(img,ushift)|minus(img,dshift)\n",
        "  return boundary"
      ],
      "metadata": {
        "id": "rPiG9idlgz6b"
      },
      "execution_count": null,
      "outputs": []
    },
    {
      "cell_type": "code",
      "source": [
        "(train_X, train_y), (test_X, test_y) = mnist.load_data()\n",
        "train_X=train_X/165\n",
        "train_Y=train_X/165\n",
        "nclasses=4\n",
        "train_X=train_X[train_y<nclasses]\n",
        "train_y=train_y[train_y<nclasses]\n",
        "test_X=test_X[test_y<nclasses]\n",
        "test_y=test_y[test_y<nclasses]\n",
        "train_X=train_X[::90].copy()\n",
        "train_y=train_y[::90].copy()\n",
        "train_X=test_X[::100].copy()\n",
        "train_y=test_y[::100].copy()"
      ],
      "metadata": {
        "id": "f-Rf8CDhAbfy"
      },
      "execution_count": null,
      "outputs": []
    },
    {
      "cell_type": "code",
      "source": [
        "train_hole=np.array([getHolepixels(i).sum() for i in train_X])\n",
        "test_hole=np.array([getHolepixels(i).sum() for i in test_X])\n",
        "train_bound=np.array([getBoundaryPixels(i).sum() for i in train_X])\n",
        "test_bound=np.array([getBoundaryPixels(i).sum() for i in test_X])\n",
        "train_feats=np.vstack((train_hole,train_bound)).transpose()\n",
        "test_feats=np.vstack((test_hole,test_bound)).transpose()"
      ],
      "metadata": {
        "id": "YYHu_DWsBVwu"
      },
      "execution_count": null,
      "outputs": []
    },
    {
      "cell_type": "code",
      "source": [
        "xlim=[-50,250]\n",
        "ylim=[-50,250]\n",
        "fig,ax=plotData(x=train_feats,y=train_y)\n",
        "ax.set_xlim(xlim)\n",
        "ax.set_ylim(ylim)\n",
        "plt.show()"
      ],
      "metadata": {
        "colab": {
          "base_uri": "https://localhost:8080/",
          "height": 455
        },
        "id": "MiG9C4HKBwpf",
        "outputId": "b065527b-2b36-43bc-92d6-0a0e944f509d"
      },
      "execution_count": null,
      "outputs": [
        {
          "output_type": "display_data",
          "data": {
            "text/plain": [
              "<Figure size 640x480 with 1 Axes>"
            ],
            "image/png": "[encoded data removed]"
          },
          "metadata": {}
        }
      ]
    },
    {
      "cell_type": "code",
      "source": [
        "test_pred=NN(train_feats,train_y,test_feats)\n",
        "accuracy=Accuracy(test_y,test_pred)\n",
        "print(\"Baseline accuracy : \",accuracy*100,\"%\",\"for\",nclasses,\"classes\")"
      ],
      "metadata": {
        "id": "K7qi4-eQCBI0",
        "colab": {
          "base_uri": "https://localhost:8080/"
        },
        "outputId": "e51ae990-3c82-4885-9f7e-1ce427e1f9da"
      },
      "execution_count": null,
      "outputs": [
        {
          "output_type": "stream",
          "name": "stdout",
          "text": [
            "Baseline accuracy :  24.82559538128458 % for 4 classes\n"
          ]
        }
      ]
    },
    {
      "cell_type": "code",
      "source": [
        "transform=np.array([[1,-2],[0,1]])\n",
        "print(transform)\n",
        "train_feats_t=np.matmul(train_feats,transform.T)\n",
        "test_feats_t=np.matmul(test_feats,transform.T)\n"
      ],
      "metadata": {
        "id": "KJNUkvBCD6To",
        "colab": {
          "base_uri": "https://localhost:8080/"
        },
        "outputId": "42884584-6117-4dcd-cf58-f936d92535b3"
      },
      "execution_count": null,
      "outputs": [
        {
          "output_type": "stream",
          "name": "stdout",
          "text": [
            "[[ 1 -2]\n",
            " [ 0  1]]\n"
          ]
        }
      ]
    },
    {
      "cell_type": "code",
      "source": [
        "fig,ax=plotData(x=train_feats_t,y=train_y)\n",
        "ax.set_xlim(xlim)\n",
        "ax.set_ylim(ylim)\n",
        "plt.show()"
      ],
      "metadata": {
        "id": "rmet9xzNEGUZ",
        "colab": {
          "base_uri": "https://localhost:8080/",
          "height": 455
        },
        "outputId": "fb8eab06-7d41-46ef-fe9a-d8376794a3aa"
      },
      "execution_count": null,
      "outputs": [
        {
          "output_type": "display_data",
          "data": {
            "text/plain": [
              "<Figure size 640x480 with 1 Axes>"
            ],
            "image/png": "[encoded data removed]"
          },
          "metadata": {}
        }
      ]
    },
    {
      "cell_type": "code",
      "source": [
        "test_pred=NN(train_feats_t,train_y,test_feats_t)\n",
        "accuracy=Accuracy(test_y,test_pred)\n",
        "print(\"Baseline Accuracy : \",accuracy*100,\"%\",\"for\",nclasses,\"classes\")"
      ],
      "metadata": {
        "id": "6ww9TxRrEKJF",
        "colab": {
          "base_uri": "https://localhost:8080/"
        },
        "outputId": "b73b5de5-98e4-485a-89d5-0a1366ee7503"
      },
      "execution_count": null,
      "outputs": [
        {
          "output_type": "stream",
          "name": "stdout",
          "text": [
            "Baseline Accuracy :  24.82559538128458 % for 4 classes\n"
          ]
        }
      ]
    },
    {
      "cell_type": "markdown",
      "source": [
        "# **Questions**"
      ],
      "metadata": {
        "id": "pcBiljs_FTQ4"
      }
    },
    {
      "cell_type": "markdown",
      "source": [
        "**Will the same transform used for these two features also work for other features?**"
      ],
      "metadata": {
        "id": "TWPyU_4kGW0T"
      }
    },
    {
      "cell_type": "markdown",
      "source": [
        " Some features might not benefit as much, especially if they represent different scales or contexts within the data. Testing each feature group is necessary to confirm."
      ],
      "metadata": {
        "id": "_vEVq0spFWLK"
      }
    },
    {
      "cell_type": "markdown",
      "source": [
        "Exercise: Is it possible that adding all 4 features at a time is not the best strategy? Can you think of a better combination of features that can help in improving the accuracy of the model? Maybe you can try adding 2 features at a time and see if that helps."
      ],
      "metadata": {
        "id": "o8vSVkb0Gc20"
      }
    },
    {
      "cell_type": "code",
      "source": [
        "from itertools import combinations\n",
        "from sklearn.metrics import accuracy_score\n",
        "\n",
        "\n",
        "accuracy_dict = {}\n",
        "\n",
        "for feat_combo in combinations(range(train_feats.shape[1]), 2):\n",
        "    train_feats_subset = train_feats[:, feat_combo]\n",
        "    test_feats_subset = test_feats[:, feat_combo]\n",
        "    train_feats_t = np.matmul(train_feats_subset, transform)\n",
        "    test_feats_t = np.matmul(test_feats_subset, transform)\n",
        "    pred_labels = NN(train_feats_t, train_y, test_feats_t)\n",
        "\n",
        "    acc = accuracy_score(test_y, pred_labels)\n",
        "    accuracy_dict[feat_combo] = acc\n",
        "    print(f\"Features {feat_combo} -> Accuracy: {acc:.4f}\")\n",
        "\n",
        "best_combo = max(accuracy_dict, key=accuracy_dict.get)\n",
        "print(f\"Best feature combination: {best_combo} with accuracy {accuracy_dict[best_combo]:.4f}\")\n"
      ],
      "metadata": {
        "id": "0GUH-tMwGqMx",
        "colab": {
          "base_uri": "https://localhost:8080/"
        },
        "outputId": "b3475147-16d4-4e91-96d4-d7278fa5ecfd"
      },
      "execution_count": null,
      "outputs": [
        {
          "output_type": "stream",
          "name": "stdout",
          "text": [
            "Features (0, 1) -> Accuracy: 0.2483\n",
            "Best feature combination: (0, 1) with accuracy 0.2483\n"
          ]
        }
      ]
    },
    {
      "cell_type": "markdown",
      "source": [
        "# Data Normalisation"
      ],
      "metadata": {
        "id": "9ydBW2cgERu4"
      }
    },
    {
      "cell_type": "code",
      "source": [
        "def rescale(data):\n",
        "  return (data-data.min())/(data.max()-data.min())"
      ],
      "metadata": {
        "id": "f4fxOn5aEUZ5"
      },
      "execution_count": null,
      "outputs": []
    },
    {
      "cell_type": "code",
      "source": [
        "train_feats_rescaled_x=rescale(train_feats[:,0])\n",
        "train_feats_rescaled_y=rescale(train_feats[:,1]) # Use train_feats for y values as well\n",
        "train_feats_rescaled=np.stack((train_feats_rescaled_x,train_feats_rescaled_y),1)\n",
        "test_feats_rescaled_x=rescale(test_feats[:,0])\n",
        "test_feats_rescaled_y=rescale(test_feats[:,1]) # Use test_feats[:,1] for consistency\n",
        "test_feats_rescaled=np.stack((test_feats_rescaled_x,test_feats_rescaled_y),1)"
      ],
      "metadata": {
        "id": "3Fp_CkdtJW4B"
      },
      "execution_count": null,
      "outputs": []
    },
    {
      "cell_type": "code",
      "source": [
        "fig,ax=plotData(train_feats_t,train_y)\n",
        "ax.set_xlim(xlim)\n",
        "ax.set_ylim(ylim)"
      ],
      "metadata": {
        "id": "l3Di3DLAEl50",
        "colab": {
          "base_uri": "https://localhost:8080/",
          "height": 472
        },
        "outputId": "8659c491-7273-430e-89a8-865cb4237844"
      },
      "execution_count": null,
      "outputs": [
        {
          "output_type": "execute_result",
          "data": {
            "text/plain": [
              "(-50.0, 250.0)"
            ]
          },
          "metadata": {},
          "execution_count": 52
        },
        {
          "output_type": "display_data",
          "data": {
            "text/plain": [
              "<Figure size 640x480 with 1 Axes>"
            ],
            "image/png": "[encoded data removed]"
          },
          "metadata": {}
        }
      ]
    },
    {
      "cell_type": "code",
      "source": [
        "test_pred=NN(train_feats_rescaled,train_y,test_feats_rescaled)\n",
        "accuracy=Accuracy(test_y,test_pred)\n",
        "print(\"Accuracy after transform:\",accuracy*100,\"%\")"
      ],
      "metadata": {
        "id": "TG-BJoQFEuLc",
        "colab": {
          "base_uri": "https://localhost:8080/"
        },
        "outputId": "6d9f6cf5-5101-4022-fcd7-229ff576978c"
      },
      "execution_count": null,
      "outputs": [
        {
          "output_type": "stream",
          "name": "stdout",
          "text": [
            "Accuracy after transform: 24.82559538128458 %\n"
          ]
        }
      ]
    }
  ]
}